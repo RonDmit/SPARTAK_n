{
  "nbformat": 4,
  "nbformat_minor": 0,
  "metadata": {
    "colab": {
      "provenance": [],
      "authorship_tag": "ABX9TyPAsnYTWJJsOlRmBpIX1vfY",
      "include_colab_link": true
    },
    "kernelspec": {
      "name": "python3",
      "display_name": "Python 3"
    },
    "language_info": {
      "name": "python"
    }
  },
  "cells": [
    {
      "cell_type": "markdown",
      "metadata": {
        "id": "view-in-github",
        "colab_type": "text"
      },
      "source": [
        "<a href=\"https://colab.research.google.com/github/RonDmit/SPARTAK_n/blob/main/Ronzhin_Dmitry/Internship.ipynb\" target=\"_parent\"><img src=\"https://colab.research.google.com/assets/colab-badge.svg\" alt=\"Open In Colab\"/></a>"
      ]
    },
    {
      "cell_type": "code",
      "execution_count": null,
      "metadata": {
        "id": "OJ7gZ1Bgp0uY"
      },
      "outputs": [],
      "source": [
        "video_path = 'путь_к_видеофайлу.mp4'\n",
        "frames = extract_frames(video_path)\n",
        "\n",
        "for frame in frames:\n",
        "    cv2.imshow('Frame', frame)\n",
        "\n",
        "    # Для показа каждого кадра добавьте задержку (например, 25 миллисекунд)\n",
        "    # и проверку на нажатие клавиши 'q' для выхода\n",
        "    if cv2.waitKey(25) & 0xFF == ord('q'):\n",
        "        break\n",
        "\n",
        "cv2.destroyAllWindows()"
      ]
    }
  ]
}